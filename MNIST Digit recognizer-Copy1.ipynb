{
 "cells": [
  {
   "cell_type": "code",
   "execution_count": 1,
   "metadata": {},
   "outputs": [
    {
     "name": "stderr",
     "output_type": "stream",
     "text": [
      "Using TensorFlow backend.\n"
     ]
    }
   ],
   "source": [
    "import pandas as pd\n",
    "from keras.utils.np_utils import to_categorical \n",
    "from keras.models import Sequential\n",
    "from keras.layers import Dense, Dropout, Flatten, Conv2D, MaxPool2D\n",
    "from keras.optimizers import RMSprop\n",
    "from keras.preprocessing.image import ImageDataGenerator\n",
    "from keras.callbacks import ReduceLROnPlateau"
   ]
  },
  {
   "cell_type": "markdown",
   "metadata": {},
   "source": [
    "# Explore Data"
   ]
  },
  {
   "cell_type": "code",
   "execution_count": 2,
   "metadata": {},
   "outputs": [
    {
     "data": {
      "text/html": [
       "<div>\n",
       "<style scoped>\n",
       "    .dataframe tbody tr th:only-of-type {\n",
       "        vertical-align: middle;\n",
       "    }\n",
       "\n",
       "    .dataframe tbody tr th {\n",
       "        vertical-align: top;\n",
       "    }\n",
       "\n",
       "    .dataframe thead th {\n",
       "        text-align: right;\n",
       "    }\n",
       "</style>\n",
       "<table border=\"1\" class=\"dataframe\">\n",
       "  <thead>\n",
       "    <tr style=\"text-align: right;\">\n",
       "      <th></th>\n",
       "      <th>label</th>\n",
       "      <th>pixel0</th>\n",
       "      <th>pixel1</th>\n",
       "      <th>pixel2</th>\n",
       "      <th>pixel3</th>\n",
       "      <th>pixel4</th>\n",
       "      <th>pixel5</th>\n",
       "      <th>pixel6</th>\n",
       "      <th>pixel7</th>\n",
       "      <th>pixel8</th>\n",
       "      <th>...</th>\n",
       "      <th>pixel774</th>\n",
       "      <th>pixel775</th>\n",
       "      <th>pixel776</th>\n",
       "      <th>pixel777</th>\n",
       "      <th>pixel778</th>\n",
       "      <th>pixel779</th>\n",
       "      <th>pixel780</th>\n",
       "      <th>pixel781</th>\n",
       "      <th>pixel782</th>\n",
       "      <th>pixel783</th>\n",
       "    </tr>\n",
       "  </thead>\n",
       "  <tbody>\n",
       "    <tr>\n",
       "      <th>0</th>\n",
       "      <td>1</td>\n",
       "      <td>0</td>\n",
       "      <td>0</td>\n",
       "      <td>0</td>\n",
       "      <td>0</td>\n",
       "      <td>0</td>\n",
       "      <td>0</td>\n",
       "      <td>0</td>\n",
       "      <td>0</td>\n",
       "      <td>0</td>\n",
       "      <td>...</td>\n",
       "      <td>0</td>\n",
       "      <td>0</td>\n",
       "      <td>0</td>\n",
       "      <td>0</td>\n",
       "      <td>0</td>\n",
       "      <td>0</td>\n",
       "      <td>0</td>\n",
       "      <td>0</td>\n",
       "      <td>0</td>\n",
       "      <td>0</td>\n",
       "    </tr>\n",
       "    <tr>\n",
       "      <th>1</th>\n",
       "      <td>0</td>\n",
       "      <td>0</td>\n",
       "      <td>0</td>\n",
       "      <td>0</td>\n",
       "      <td>0</td>\n",
       "      <td>0</td>\n",
       "      <td>0</td>\n",
       "      <td>0</td>\n",
       "      <td>0</td>\n",
       "      <td>0</td>\n",
       "      <td>...</td>\n",
       "      <td>0</td>\n",
       "      <td>0</td>\n",
       "      <td>0</td>\n",
       "      <td>0</td>\n",
       "      <td>0</td>\n",
       "      <td>0</td>\n",
       "      <td>0</td>\n",
       "      <td>0</td>\n",
       "      <td>0</td>\n",
       "      <td>0</td>\n",
       "    </tr>\n",
       "    <tr>\n",
       "      <th>2</th>\n",
       "      <td>1</td>\n",
       "      <td>0</td>\n",
       "      <td>0</td>\n",
       "      <td>0</td>\n",
       "      <td>0</td>\n",
       "      <td>0</td>\n",
       "      <td>0</td>\n",
       "      <td>0</td>\n",
       "      <td>0</td>\n",
       "      <td>0</td>\n",
       "      <td>...</td>\n",
       "      <td>0</td>\n",
       "      <td>0</td>\n",
       "      <td>0</td>\n",
       "      <td>0</td>\n",
       "      <td>0</td>\n",
       "      <td>0</td>\n",
       "      <td>0</td>\n",
       "      <td>0</td>\n",
       "      <td>0</td>\n",
       "      <td>0</td>\n",
       "    </tr>\n",
       "    <tr>\n",
       "      <th>3</th>\n",
       "      <td>4</td>\n",
       "      <td>0</td>\n",
       "      <td>0</td>\n",
       "      <td>0</td>\n",
       "      <td>0</td>\n",
       "      <td>0</td>\n",
       "      <td>0</td>\n",
       "      <td>0</td>\n",
       "      <td>0</td>\n",
       "      <td>0</td>\n",
       "      <td>...</td>\n",
       "      <td>0</td>\n",
       "      <td>0</td>\n",
       "      <td>0</td>\n",
       "      <td>0</td>\n",
       "      <td>0</td>\n",
       "      <td>0</td>\n",
       "      <td>0</td>\n",
       "      <td>0</td>\n",
       "      <td>0</td>\n",
       "      <td>0</td>\n",
       "    </tr>\n",
       "    <tr>\n",
       "      <th>4</th>\n",
       "      <td>0</td>\n",
       "      <td>0</td>\n",
       "      <td>0</td>\n",
       "      <td>0</td>\n",
       "      <td>0</td>\n",
       "      <td>0</td>\n",
       "      <td>0</td>\n",
       "      <td>0</td>\n",
       "      <td>0</td>\n",
       "      <td>0</td>\n",
       "      <td>...</td>\n",
       "      <td>0</td>\n",
       "      <td>0</td>\n",
       "      <td>0</td>\n",
       "      <td>0</td>\n",
       "      <td>0</td>\n",
       "      <td>0</td>\n",
       "      <td>0</td>\n",
       "      <td>0</td>\n",
       "      <td>0</td>\n",
       "      <td>0</td>\n",
       "    </tr>\n",
       "  </tbody>\n",
       "</table>\n",
       "<p>5 rows × 785 columns</p>\n",
       "</div>"
      ],
      "text/plain": [
       "   label  pixel0  pixel1  pixel2  pixel3  pixel4  pixel5  pixel6  pixel7  \\\n",
       "0      1       0       0       0       0       0       0       0       0   \n",
       "1      0       0       0       0       0       0       0       0       0   \n",
       "2      1       0       0       0       0       0       0       0       0   \n",
       "3      4       0       0       0       0       0       0       0       0   \n",
       "4      0       0       0       0       0       0       0       0       0   \n",
       "\n",
       "   pixel8  ...  pixel774  pixel775  pixel776  pixel777  pixel778  pixel779  \\\n",
       "0       0  ...         0         0         0         0         0         0   \n",
       "1       0  ...         0         0         0         0         0         0   \n",
       "2       0  ...         0         0         0         0         0         0   \n",
       "3       0  ...         0         0         0         0         0         0   \n",
       "4       0  ...         0         0         0         0         0         0   \n",
       "\n",
       "   pixel780  pixel781  pixel782  pixel783  \n",
       "0         0         0         0         0  \n",
       "1         0         0         0         0  \n",
       "2         0         0         0         0  \n",
       "3         0         0         0         0  \n",
       "4         0         0         0         0  \n",
       "\n",
       "[5 rows x 785 columns]"
      ]
     },
     "execution_count": 2,
     "metadata": {},
     "output_type": "execute_result"
    }
   ],
   "source": [
    "# Load Data \n",
    "train_data = pd.read_csv('./data/train.csv')\n",
    "train_data.head(5)"
   ]
  },
  {
   "cell_type": "code",
   "execution_count": 3,
   "metadata": {
    "scrolled": true
   },
   "outputs": [
    {
     "data": {
      "text/html": [
       "<div>\n",
       "<style scoped>\n",
       "    .dataframe tbody tr th:only-of-type {\n",
       "        vertical-align: middle;\n",
       "    }\n",
       "\n",
       "    .dataframe tbody tr th {\n",
       "        vertical-align: top;\n",
       "    }\n",
       "\n",
       "    .dataframe thead th {\n",
       "        text-align: right;\n",
       "    }\n",
       "</style>\n",
       "<table border=\"1\" class=\"dataframe\">\n",
       "  <thead>\n",
       "    <tr style=\"text-align: right;\">\n",
       "      <th></th>\n",
       "      <th>label</th>\n",
       "      <th>pixel0</th>\n",
       "      <th>pixel1</th>\n",
       "      <th>pixel2</th>\n",
       "      <th>pixel3</th>\n",
       "      <th>pixel4</th>\n",
       "      <th>pixel5</th>\n",
       "      <th>pixel6</th>\n",
       "      <th>pixel7</th>\n",
       "      <th>pixel8</th>\n",
       "      <th>...</th>\n",
       "      <th>pixel774</th>\n",
       "      <th>pixel775</th>\n",
       "      <th>pixel776</th>\n",
       "      <th>pixel777</th>\n",
       "      <th>pixel778</th>\n",
       "      <th>pixel779</th>\n",
       "      <th>pixel780</th>\n",
       "      <th>pixel781</th>\n",
       "      <th>pixel782</th>\n",
       "      <th>pixel783</th>\n",
       "    </tr>\n",
       "  </thead>\n",
       "  <tbody>\n",
       "    <tr>\n",
       "      <th>count</th>\n",
       "      <td>42000.000000</td>\n",
       "      <td>42000.0</td>\n",
       "      <td>42000.0</td>\n",
       "      <td>42000.0</td>\n",
       "      <td>42000.0</td>\n",
       "      <td>42000.0</td>\n",
       "      <td>42000.0</td>\n",
       "      <td>42000.0</td>\n",
       "      <td>42000.0</td>\n",
       "      <td>42000.0</td>\n",
       "      <td>...</td>\n",
       "      <td>42000.000000</td>\n",
       "      <td>42000.000000</td>\n",
       "      <td>42000.000000</td>\n",
       "      <td>42000.00000</td>\n",
       "      <td>42000.000000</td>\n",
       "      <td>42000.000000</td>\n",
       "      <td>42000.0</td>\n",
       "      <td>42000.0</td>\n",
       "      <td>42000.0</td>\n",
       "      <td>42000.0</td>\n",
       "    </tr>\n",
       "    <tr>\n",
       "      <th>mean</th>\n",
       "      <td>4.456643</td>\n",
       "      <td>0.0</td>\n",
       "      <td>0.0</td>\n",
       "      <td>0.0</td>\n",
       "      <td>0.0</td>\n",
       "      <td>0.0</td>\n",
       "      <td>0.0</td>\n",
       "      <td>0.0</td>\n",
       "      <td>0.0</td>\n",
       "      <td>0.0</td>\n",
       "      <td>...</td>\n",
       "      <td>0.219286</td>\n",
       "      <td>0.117095</td>\n",
       "      <td>0.059024</td>\n",
       "      <td>0.02019</td>\n",
       "      <td>0.017238</td>\n",
       "      <td>0.002857</td>\n",
       "      <td>0.0</td>\n",
       "      <td>0.0</td>\n",
       "      <td>0.0</td>\n",
       "      <td>0.0</td>\n",
       "    </tr>\n",
       "    <tr>\n",
       "      <th>std</th>\n",
       "      <td>2.887730</td>\n",
       "      <td>0.0</td>\n",
       "      <td>0.0</td>\n",
       "      <td>0.0</td>\n",
       "      <td>0.0</td>\n",
       "      <td>0.0</td>\n",
       "      <td>0.0</td>\n",
       "      <td>0.0</td>\n",
       "      <td>0.0</td>\n",
       "      <td>0.0</td>\n",
       "      <td>...</td>\n",
       "      <td>6.312890</td>\n",
       "      <td>4.633819</td>\n",
       "      <td>3.274488</td>\n",
       "      <td>1.75987</td>\n",
       "      <td>1.894498</td>\n",
       "      <td>0.414264</td>\n",
       "      <td>0.0</td>\n",
       "      <td>0.0</td>\n",
       "      <td>0.0</td>\n",
       "      <td>0.0</td>\n",
       "    </tr>\n",
       "    <tr>\n",
       "      <th>min</th>\n",
       "      <td>0.000000</td>\n",
       "      <td>0.0</td>\n",
       "      <td>0.0</td>\n",
       "      <td>0.0</td>\n",
       "      <td>0.0</td>\n",
       "      <td>0.0</td>\n",
       "      <td>0.0</td>\n",
       "      <td>0.0</td>\n",
       "      <td>0.0</td>\n",
       "      <td>0.0</td>\n",
       "      <td>...</td>\n",
       "      <td>0.000000</td>\n",
       "      <td>0.000000</td>\n",
       "      <td>0.000000</td>\n",
       "      <td>0.00000</td>\n",
       "      <td>0.000000</td>\n",
       "      <td>0.000000</td>\n",
       "      <td>0.0</td>\n",
       "      <td>0.0</td>\n",
       "      <td>0.0</td>\n",
       "      <td>0.0</td>\n",
       "    </tr>\n",
       "    <tr>\n",
       "      <th>25%</th>\n",
       "      <td>2.000000</td>\n",
       "      <td>0.0</td>\n",
       "      <td>0.0</td>\n",
       "      <td>0.0</td>\n",
       "      <td>0.0</td>\n",
       "      <td>0.0</td>\n",
       "      <td>0.0</td>\n",
       "      <td>0.0</td>\n",
       "      <td>0.0</td>\n",
       "      <td>0.0</td>\n",
       "      <td>...</td>\n",
       "      <td>0.000000</td>\n",
       "      <td>0.000000</td>\n",
       "      <td>0.000000</td>\n",
       "      <td>0.00000</td>\n",
       "      <td>0.000000</td>\n",
       "      <td>0.000000</td>\n",
       "      <td>0.0</td>\n",
       "      <td>0.0</td>\n",
       "      <td>0.0</td>\n",
       "      <td>0.0</td>\n",
       "    </tr>\n",
       "    <tr>\n",
       "      <th>50%</th>\n",
       "      <td>4.000000</td>\n",
       "      <td>0.0</td>\n",
       "      <td>0.0</td>\n",
       "      <td>0.0</td>\n",
       "      <td>0.0</td>\n",
       "      <td>0.0</td>\n",
       "      <td>0.0</td>\n",
       "      <td>0.0</td>\n",
       "      <td>0.0</td>\n",
       "      <td>0.0</td>\n",
       "      <td>...</td>\n",
       "      <td>0.000000</td>\n",
       "      <td>0.000000</td>\n",
       "      <td>0.000000</td>\n",
       "      <td>0.00000</td>\n",
       "      <td>0.000000</td>\n",
       "      <td>0.000000</td>\n",
       "      <td>0.0</td>\n",
       "      <td>0.0</td>\n",
       "      <td>0.0</td>\n",
       "      <td>0.0</td>\n",
       "    </tr>\n",
       "    <tr>\n",
       "      <th>75%</th>\n",
       "      <td>7.000000</td>\n",
       "      <td>0.0</td>\n",
       "      <td>0.0</td>\n",
       "      <td>0.0</td>\n",
       "      <td>0.0</td>\n",
       "      <td>0.0</td>\n",
       "      <td>0.0</td>\n",
       "      <td>0.0</td>\n",
       "      <td>0.0</td>\n",
       "      <td>0.0</td>\n",
       "      <td>...</td>\n",
       "      <td>0.000000</td>\n",
       "      <td>0.000000</td>\n",
       "      <td>0.000000</td>\n",
       "      <td>0.00000</td>\n",
       "      <td>0.000000</td>\n",
       "      <td>0.000000</td>\n",
       "      <td>0.0</td>\n",
       "      <td>0.0</td>\n",
       "      <td>0.0</td>\n",
       "      <td>0.0</td>\n",
       "    </tr>\n",
       "    <tr>\n",
       "      <th>max</th>\n",
       "      <td>9.000000</td>\n",
       "      <td>0.0</td>\n",
       "      <td>0.0</td>\n",
       "      <td>0.0</td>\n",
       "      <td>0.0</td>\n",
       "      <td>0.0</td>\n",
       "      <td>0.0</td>\n",
       "      <td>0.0</td>\n",
       "      <td>0.0</td>\n",
       "      <td>0.0</td>\n",
       "      <td>...</td>\n",
       "      <td>254.000000</td>\n",
       "      <td>254.000000</td>\n",
       "      <td>253.000000</td>\n",
       "      <td>253.00000</td>\n",
       "      <td>254.000000</td>\n",
       "      <td>62.000000</td>\n",
       "      <td>0.0</td>\n",
       "      <td>0.0</td>\n",
       "      <td>0.0</td>\n",
       "      <td>0.0</td>\n",
       "    </tr>\n",
       "  </tbody>\n",
       "</table>\n",
       "<p>8 rows × 785 columns</p>\n",
       "</div>"
      ],
      "text/plain": [
       "              label   pixel0   pixel1   pixel2   pixel3   pixel4   pixel5  \\\n",
       "count  42000.000000  42000.0  42000.0  42000.0  42000.0  42000.0  42000.0   \n",
       "mean       4.456643      0.0      0.0      0.0      0.0      0.0      0.0   \n",
       "std        2.887730      0.0      0.0      0.0      0.0      0.0      0.0   \n",
       "min        0.000000      0.0      0.0      0.0      0.0      0.0      0.0   \n",
       "25%        2.000000      0.0      0.0      0.0      0.0      0.0      0.0   \n",
       "50%        4.000000      0.0      0.0      0.0      0.0      0.0      0.0   \n",
       "75%        7.000000      0.0      0.0      0.0      0.0      0.0      0.0   \n",
       "max        9.000000      0.0      0.0      0.0      0.0      0.0      0.0   \n",
       "\n",
       "        pixel6   pixel7   pixel8  ...      pixel774      pixel775  \\\n",
       "count  42000.0  42000.0  42000.0  ...  42000.000000  42000.000000   \n",
       "mean       0.0      0.0      0.0  ...      0.219286      0.117095   \n",
       "std        0.0      0.0      0.0  ...      6.312890      4.633819   \n",
       "min        0.0      0.0      0.0  ...      0.000000      0.000000   \n",
       "25%        0.0      0.0      0.0  ...      0.000000      0.000000   \n",
       "50%        0.0      0.0      0.0  ...      0.000000      0.000000   \n",
       "75%        0.0      0.0      0.0  ...      0.000000      0.000000   \n",
       "max        0.0      0.0      0.0  ...    254.000000    254.000000   \n",
       "\n",
       "           pixel776     pixel777      pixel778      pixel779  pixel780  \\\n",
       "count  42000.000000  42000.00000  42000.000000  42000.000000   42000.0   \n",
       "mean       0.059024      0.02019      0.017238      0.002857       0.0   \n",
       "std        3.274488      1.75987      1.894498      0.414264       0.0   \n",
       "min        0.000000      0.00000      0.000000      0.000000       0.0   \n",
       "25%        0.000000      0.00000      0.000000      0.000000       0.0   \n",
       "50%        0.000000      0.00000      0.000000      0.000000       0.0   \n",
       "75%        0.000000      0.00000      0.000000      0.000000       0.0   \n",
       "max      253.000000    253.00000    254.000000     62.000000       0.0   \n",
       "\n",
       "       pixel781  pixel782  pixel783  \n",
       "count   42000.0   42000.0   42000.0  \n",
       "mean        0.0       0.0       0.0  \n",
       "std         0.0       0.0       0.0  \n",
       "min         0.0       0.0       0.0  \n",
       "25%         0.0       0.0       0.0  \n",
       "50%         0.0       0.0       0.0  \n",
       "75%         0.0       0.0       0.0  \n",
       "max         0.0       0.0       0.0  \n",
       "\n",
       "[8 rows x 785 columns]"
      ]
     },
     "execution_count": 3,
     "metadata": {},
     "output_type": "execute_result"
    }
   ],
   "source": [
    "train_data.describe()"
   ]
  },
  {
   "cell_type": "code",
   "execution_count": 4,
   "metadata": {},
   "outputs": [
    {
     "data": {
      "text/plain": [
       "<matplotlib.axes._subplots.AxesSubplot at 0x7f646d255278>"
      ]
     },
     "execution_count": 4,
     "metadata": {},
     "output_type": "execute_result"
    }
   ],
   "source": [
    "train_data['label'].value_counts().sort_index().plot.bar()"
   ]
  },
  {
   "cell_type": "markdown",
   "metadata": {},
   "source": [
    "# Prepare Data for Training"
   ]
  },
  {
   "cell_type": "code",
   "execution_count": 5,
   "metadata": {},
   "outputs": [],
   "source": [
    "def prepare_x(data):\n",
    "    imgs = data.loc[:, data.columns!='label']\n",
    "    # scale pixel value between 0 and 1\n",
    "    imgs = imgs/255.0\n",
    "    # reshape data to image format with dimension (28x28x1)\n",
    "    x = imgs.values.reshape(-1, 28,28,1)\n",
    "    return x\n",
    "\n",
    "def prepare_y(data):\n",
    "    labels = data.label\n",
    "    # convert labels to one hot encoded vector\n",
    "    y = to_categorical(labels, num_classes=10)\n",
    "    return y"
   ]
  },
  {
   "cell_type": "code",
   "execution_count": 6,
   "metadata": {},
   "outputs": [
    {
     "name": "stdout",
     "output_type": "stream",
     "text": [
      "Train X shape : (42000, 28, 28, 1)\n",
      "Train Y shape : (42000, 10)\n"
     ]
    }
   ],
   "source": [
    "train_data = pd.read_csv('./data/train.csv')\n",
    "train_x = prepare_x(train_data)\n",
    "train_y = prepare_y(train_data)\n",
    "print (\"Train X shape : \" + str(train_x.shape))\n",
    "print (\"Train Y shape : \" + str(train_y.shape))"
   ]
  },
  {
   "cell_type": "markdown",
   "metadata": {},
   "source": [
    "# Display Some Images"
   ]
  },
  {
   "cell_type": "code",
   "execution_count": 7,
   "metadata": {},
   "outputs": [],
   "source": [
    "import matplotlib.pyplot as plt\n",
    "\n",
    "def showImage(img):\n",
    "    first_array=(img).reshape([28, 28])\n",
    "    plt.imshow(first_array)\n",
    "    plt.gray()\n",
    "    plt.show()\n"
   ]
  },
  {
   "cell_type": "code",
   "execution_count": 8,
   "metadata": {},
   "outputs": [
    {
     "data": {
      "image/png": "[encoded data removed]",
      "text/plain": [
       "<Figure size 432x288 with 1 Axes>"
      ]
     },
     "metadata": {
      "needs_background": "light"
     },
     "output_type": "display_data"
    },
    {
     "name": "stdout",
     "output_type": "stream",
     "text": [
      "[0. 1. 0. 0. 0. 0. 0. 0. 0. 0.]\n"
     ]
    }
   ],
   "source": [
    "showImage(train_x[0])\n",
    "print(train_y[0])"
   ]
  },
  {
   "cell_type": "code",
   "execution_count": 9,
   "metadata": {},
   "outputs": [
    {
     "data": {
      "image/png": "[encoded data removed]",
      "text/plain": [
       "<Figure size 432x288 with 1 Axes>"
      ]
     },
     "metadata": {
      "needs_background": "light"
     },
     "output_type": "display_data"
    },
    {
     "name": "stdout",
     "output_type": "stream",
     "text": [
      "[1. 0. 0. 0. 0. 0. 0. 0. 0. 0.]\n"
     ]
    }
   ],
   "source": [
    "showImage(train_x[1])\n",
    "print(train_y[1])"
   ]
  },
  {
   "cell_type": "markdown",
   "metadata": {},
   "source": [
    "# Build Models"
   ]
  },
  {
   "cell_type": "code",
   "execution_count": 10,
   "metadata": {},
   "outputs": [],
   "source": [
    "def get_model1():\n",
    "    model = Sequential()    \n",
    "    model.add(Flatten(input_shape = (28,28,1)))    \n",
    "    model.add(Dense(512, activation = \"relu\"))    \n",
    "    model.add(Dropout(0.25))    \n",
    "    model.add(Dense(256, activation = \"relu\"))    \n",
    "    model.add(Dropout(0.25))    \n",
    "    model.add(Dense(10, activation = \"softmax\"))    \n",
    "    optimizer = RMSprop(lr=0.001, rho=0.9, epsilon=1e-08, decay=0.0)    \n",
    "    model.compile(optimizer = optimizer , loss = \"categorical_crossentropy\", metrics=[\"accuracy\"])    \n",
    "    return model"
   ]
  },
  {
   "cell_type": "code",
   "execution_count": 11,
   "metadata": {},
   "outputs": [],
   "source": [
    "def get_model2():\n",
    "    model = Sequential()\n",
    "\n",
    "    model.add(Conv2D(filters = 32, kernel_size = (5,5),padding = 'Same', \n",
    "                     activation ='relu', input_shape = (28,28,1)))\n",
    "    model.add(Conv2D(filters = 32, kernel_size = (5,5),padding = 'Same', \n",
    "                     activation ='relu'))\n",
    "    model.add(MaxPool2D(pool_size=(2,2)))\n",
    "    model.add(Dropout(0.25))\n",
    "\n",
    "\n",
    "    model.add(Conv2D(filters = 64, kernel_size = (3,3),padding = 'Same', \n",
    "                     activation ='relu'))\n",
    "    model.add(Conv2D(filters = 64, kernel_size = (3,3),padding = 'Same', \n",
    "                     activation ='relu'))\n",
    "    model.add(MaxPool2D(pool_size=(2,2), strides=(2,2)))\n",
    "    model.add(Dropout(0.25))\n",
    "\n",
    "\n",
    "    model.add(Flatten())\n",
    "    model.add(Dense(256, activation = \"relu\"))\n",
    "    model.add(Dropout(0.5))\n",
    "    model.add(Dense(10, activation = \"softmax\"))\n",
    "    \n",
    "    optimizer = RMSprop(lr=0.001, rho=0.9, epsilon=1e-08, decay=0.0)    \n",
    "    model.compile(optimizer = optimizer , loss = \"categorical_crossentropy\", metrics=[\"accuracy\"]) \n",
    "    \n",
    "    return model"
   ]
  },
  {
   "cell_type": "code",
   "execution_count": 51,
   "metadata": {},
   "outputs": [],
   "source": [
    "def get_model3():\n",
    "    model = Sequential()\n",
    "\n",
    "    model.add(Conv2D(filters = 64, kernel_size = (5,5),padding = 'Same', \n",
    "                     activation ='relu', input_shape = (28,28,1)))\n",
    "    model.add(Conv2D(filters = 64, kernel_size = (5,5),padding = 'Same', \n",
    "                     activation ='relu'))\n",
    "    model.add(MaxPool2D(pool_size=(2,2)))\n",
    "    model.add(Dropout(0.25))\n",
    "\n",
    "\n",
    "    model.add(Conv2D(filters = 128, kernel_size = (3,3),padding = 'Same', \n",
    "                     activation ='relu'))\n",
    "    model.add(Conv2D(filters = 128, kernel_size = (3,3),padding = 'Same', \n",
    "                     activation ='relu'))\n",
    "    model.add(MaxPool2D(pool_size=(2,2), strides=(2,2)))\n",
    "    model.add(Dropout(0.25))\n",
    "\n",
    "\n",
    "    model.add(Flatten())\n",
    "    model.add(Dense(512, activation = \"relu\"))\n",
    "    model.add(Dropout(0.5))\n",
    "    model.add(Dense(256, activation = \"relu\"))\n",
    "    model.add(Dropout(0.5))\n",
    "    model.add(Dense(10, activation = \"softmax\"))\n",
    "    \n",
    "    optimizer = RMSprop(lr=0.001, rho=0.9, epsilon=1e-08, decay=0.0)    \n",
    "    model.compile(optimizer = optimizer , loss = \"categorical_crossentropy\", metrics=[\"accuracy\"]) \n",
    "    \n",
    "    return model"
   ]
  },
  {
   "cell_type": "code",
   "execution_count": 13,
   "metadata": {},
   "outputs": [],
   "source": [
    "def plot_accuracy(history):    \n",
    "\n",
    "    plt.plot(history.history['acc'])\n",
    "    plt.plot(history.history['val_acc'])\n",
    "    plt.title('model accuracy')\n",
    "    plt.ylabel('accuracy')\n",
    "    plt.xlabel('epoch')\n",
    "    plt.legend(['train', 'validation'], loc='upper left')\n",
    "    plt.show()\n",
    "    \n",
    "def plot_loss(history):\n",
    "\n",
    "    plt.plot(history.history['loss'])\n",
    "    plt.plot(history.history['val_loss'])\n",
    "    plt.title('model loss')\n",
    "    plt.ylabel('loss')\n",
    "    plt.xlabel('epoch')\n",
    "    plt.legend(['train', 'validation'], loc='upper left')\n",
    "    plt.show()"
   ]
  },
  {
   "cell_type": "markdown",
   "metadata": {},
   "source": [
    "# Training"
   ]
  },
  {
   "cell_type": "markdown",
   "metadata": {},
   "source": [
    "## Model1"
   ]
  },
  {
   "cell_type": "code",
   "execution_count": 31,
   "metadata": {},
   "outputs": [
    {
     "name": "stdout",
     "output_type": "stream",
     "text": [
      "_________________________________________________________________\n",
      "Layer (type)                 Output Shape              Param #   \n",
      "=================================================================\n",
      "flatten_4 (Flatten)          (None, 784)               0         \n",
      "_________________________________________________________________\n",
      "dense_8 (Dense)              (None, 512)               401920    \n",
      "_________________________________________________________________\n",
      "dropout_9 (Dropout)          (None, 512)               0         \n",
      "_________________________________________________________________\n",
      "dense_9 (Dense)              (None, 256)               131328    \n",
      "_________________________________________________________________\n",
      "dropout_10 (Dropout)         (None, 256)               0         \n",
      "_________________________________________________________________\n",
      "dense_10 (Dense)             (None, 10)                2570      \n",
      "=================================================================\n",
      "Total params: 535,818\n",
      "Trainable params: 535,818\n",
      "Non-trainable params: 0\n",
      "_________________________________________________________________\n"
     ]
    }
   ],
   "source": [
    "model1 = get_model1()\n",
    "model1.summary()"
   ]
  },
  {
   "cell_type": "code",
   "execution_count": 32,
   "metadata": {},
   "outputs": [
    {
     "name": "stdout",
     "output_type": "stream",
     "text": [
      "Train on 33600 samples, validate on 8400 samples\n",
      "Epoch 1/30\n",
      "33600/33600 [==============================] - 1s 43us/step - loss: 0.3042 - acc: 0.9051 - val_loss: 0.1939 - val_acc: 0.9460\n",
      "Epoch 2/30\n",
      "33600/33600 [==============================] - 1s 38us/step - loss: 0.1392 - acc: 0.9582 - val_loss: 0.1153 - val_acc: 0.9685\n",
      "Epoch 3/30\n",
      "33600/33600 [==============================] - 1s 40us/step - loss: 0.1020 - acc: 0.9689 - val_loss: 0.1001 - val_acc: 0.9715\n",
      "Epoch 4/30\n",
      "33600/33600 [==============================] - 1s 39us/step - loss: 0.0824 - acc: 0.9756 - val_loss: 0.1079 - val_acc: 0.9724\n",
      "Epoch 5/30\n",
      "33600/33600 [==============================] - 1s 40us/step - loss: 0.0703 - acc: 0.9791 - val_loss: 0.0963 - val_acc: 0.9769\n",
      "Epoch 6/30\n",
      "33600/33600 [==============================] - 1s 38us/step - loss: 0.0619 - acc: 0.9823 - val_loss: 0.1045 - val_acc: 0.9761\n",
      "Epoch 7/30\n",
      "33600/33600 [==============================] - 1s 37us/step - loss: 0.0558 - acc: 0.9838 - val_loss: 0.1128 - val_acc: 0.9764\n",
      "Epoch 8/30\n",
      "33600/33600 [==============================] - 2s 45us/step - loss: 0.0464 - acc: 0.9867 - val_loss: 0.1233 - val_acc: 0.9737\n",
      "Epoch 9/30\n",
      "33600/33600 [==============================] - 1s 39us/step - loss: 0.0442 - acc: 0.9872 - val_loss: 0.1123 - val_acc: 0.9793\n",
      "Epoch 10/30\n",
      "33600/33600 [==============================] - 1s 42us/step - loss: 0.0426 - acc: 0.9888 - val_loss: 0.1178 - val_acc: 0.9783\n",
      "Epoch 11/30\n",
      "33600/33600 [==============================] - 1s 43us/step - loss: 0.0383 - acc: 0.9892 - val_loss: 0.1270 - val_acc: 0.9782\n",
      "Epoch 12/30\n",
      "33600/33600 [==============================] - 1s 40us/step - loss: 0.0363 - acc: 0.9900 - val_loss: 0.1221 - val_acc: 0.9798\n",
      "Epoch 13/30\n",
      "33600/33600 [==============================] - 1s 39us/step - loss: 0.0352 - acc: 0.9903 - val_loss: 0.1419 - val_acc: 0.9785\n",
      "Epoch 14/30\n",
      "33600/33600 [==============================] - 1s 39us/step - loss: 0.0345 - acc: 0.9908 - val_loss: 0.1232 - val_acc: 0.9787\n",
      "Epoch 15/30\n",
      "33600/33600 [==============================] - 1s 39us/step - loss: 0.0296 - acc: 0.9926 - val_loss: 0.1289 - val_acc: 0.9780\n",
      "Epoch 16/30\n",
      "33600/33600 [==============================] - 1s 41us/step - loss: 0.0353 - acc: 0.9918 - val_loss: 0.1474 - val_acc: 0.9764\n",
      "Epoch 17/30\n",
      "33600/33600 [==============================] - 1s 43us/step - loss: 0.0293 - acc: 0.9924 - val_loss: 0.1598 - val_acc: 0.9770\n",
      "Epoch 18/30\n",
      "33600/33600 [==============================] - 1s 37us/step - loss: 0.0279 - acc: 0.9926 - val_loss: 0.1514 - val_acc: 0.9789\n",
      "Epoch 19/30\n",
      "33600/33600 [==============================] - 1s 44us/step - loss: 0.0294 - acc: 0.9927 - val_loss: 0.1611 - val_acc: 0.9780\n",
      "Epoch 20/30\n",
      "33600/33600 [==============================] - 1s 44us/step - loss: 0.0317 - acc: 0.9920 - val_loss: 0.1455 - val_acc: 0.9792\n",
      "Epoch 21/30\n",
      "33600/33600 [==============================] - 1s 38us/step - loss: 0.0278 - acc: 0.9934 - val_loss: 0.1369 - val_acc: 0.9792\n",
      "Epoch 22/30\n",
      "33600/33600 [==============================] - 1s 37us/step - loss: 0.0254 - acc: 0.9940 - val_loss: 0.1535 - val_acc: 0.9798\n",
      "Epoch 23/30\n",
      "33600/33600 [==============================] - 1s 38us/step - loss: 0.0275 - acc: 0.9941 - val_loss: 0.1723 - val_acc: 0.9756\n",
      "Epoch 24/30\n",
      "33600/33600 [==============================] - 1s 38us/step - loss: 0.0293 - acc: 0.9932 - val_loss: 0.1338 - val_acc: 0.9815\n",
      "Epoch 25/30\n",
      "33600/33600 [==============================] - 1s 38us/step - loss: 0.0250 - acc: 0.9945 - val_loss: 0.1749 - val_acc: 0.9774\n",
      "Epoch 26/30\n",
      "33600/33600 [==============================] - 1s 38us/step - loss: 0.0237 - acc: 0.9946 - val_loss: 0.1743 - val_acc: 0.9761\n",
      "Epoch 27/30\n",
      "33600/33600 [==============================] - 1s 38us/step - loss: 0.0249 - acc: 0.9943 - val_loss: 0.1653 - val_acc: 0.9790\n",
      "Epoch 28/30\n",
      "33600/33600 [==============================] - 1s 39us/step - loss: 0.0243 - acc: 0.9946 - val_loss: 0.1609 - val_acc: 0.9811\n",
      "Epoch 29/30\n",
      "33600/33600 [==============================] - 1s 40us/step - loss: 0.0299 - acc: 0.9942 - val_loss: 0.1608 - val_acc: 0.9786\n",
      "Epoch 30/30\n",
      "33600/33600 [==============================] - 1s 40us/step - loss: 0.0222 - acc: 0.9947 - val_loss: 0.1649 - val_acc: 0.9800\n"
     ]
    }
   ],
   "source": [
    "history = model1.fit(x=train_x, y=train_y, batch_size=64, epochs=30, validation_split=0.2, )"
   ]
  },
  {
   "cell_type": "code",
   "execution_count": 16,
   "metadata": {},
   "outputs": [
    {
     "data": {
      "image/png": "[encoded data removed]",
      "text/plain": [
       "<Figure size 432x288 with 1 Axes>"
      ]
     },
     "metadata": {
      "needs_background": "light"
     },
     "output_type": "display_data"
    },
    {
     "data": {
      "image/png": "[encoded data removed]",
      "text/plain": [
       "<Figure size 432x288 with 1 Axes>"
      ]
     },
     "metadata": {
      "needs_background": "light"
     },
     "output_type": "display_data"
    }
   ],
   "source": [
    "plot_accuracy(history)\n",
    "plot_loss(history)"
   ]
  },
  {
   "cell_type": "markdown",
   "metadata": {},
   "source": [
    "## Model 2"
   ]
  },
  {
   "cell_type": "code",
   "execution_count": 33,
   "metadata": {
    "scrolled": true
   },
   "outputs": [
    {
     "name": "stdout",
     "output_type": "stream",
     "text": [
      "Train on 33600 samples, validate on 8400 samples\n",
      "Epoch 1/30\n",
      "33600/33600 [==============================] - 4s 126us/step - loss: 0.2356 - acc: 0.9274 - val_loss: 0.0525 - val_acc: 0.9820\n",
      "Epoch 2/30\n",
      "33600/33600 [==============================] - 4s 120us/step - loss: 0.0729 - acc: 0.9790 - val_loss: 0.0404 - val_acc: 0.9875\n",
      "Epoch 3/30\n",
      "33600/33600 [==============================] - 4s 126us/step - loss: 0.0578 - acc: 0.9827 - val_loss: 0.0438 - val_acc: 0.9865\n",
      "Epoch 4/30\n",
      "33600/33600 [==============================] - 4s 122us/step - loss: 0.0472 - acc: 0.9865 - val_loss: 0.0331 - val_acc: 0.9910\n",
      "Epoch 5/30\n",
      "33600/33600 [==============================] - 4s 121us/step - loss: 0.0429 - acc: 0.9874 - val_loss: 0.0288 - val_acc: 0.9912\n",
      "Epoch 6/30\n",
      "33600/33600 [==============================] - 4s 112us/step - loss: 0.0380 - acc: 0.9889 - val_loss: 0.0349 - val_acc: 0.9915\n",
      "Epoch 7/30\n",
      "33600/33600 [==============================] - 4s 110us/step - loss: 0.0370 - acc: 0.9900 - val_loss: 0.0339 - val_acc: 0.9894\n",
      "Epoch 8/30\n",
      "33600/33600 [==============================] - 4s 121us/step - loss: 0.0304 - acc: 0.9909 - val_loss: 0.0359 - val_acc: 0.9898\n",
      "Epoch 9/30\n",
      "33600/33600 [==============================] - 4s 121us/step - loss: 0.0323 - acc: 0.9903 - val_loss: 0.0390 - val_acc: 0.9904\n",
      "Epoch 10/30\n",
      "33600/33600 [==============================] - 4s 131us/step - loss: 0.0301 - acc: 0.9910 - val_loss: 0.0319 - val_acc: 0.9910\n",
      "Epoch 11/30\n",
      "33600/33600 [==============================] - 4s 116us/step - loss: 0.0295 - acc: 0.9918 - val_loss: 0.0401 - val_acc: 0.9900\n",
      "Epoch 12/30\n",
      "33600/33600 [==============================] - 4s 111us/step - loss: 0.0322 - acc: 0.9912 - val_loss: 0.0417 - val_acc: 0.9906\n",
      "Epoch 13/30\n",
      "33600/33600 [==============================] - 4s 114us/step - loss: 0.0291 - acc: 0.9917 - val_loss: 0.0322 - val_acc: 0.9919\n",
      "Epoch 14/30\n",
      "33600/33600 [==============================] - 4s 121us/step - loss: 0.0321 - acc: 0.9919 - val_loss: 0.0395 - val_acc: 0.9920\n",
      "Epoch 15/30\n",
      "33600/33600 [==============================] - 4s 121us/step - loss: 0.0335 - acc: 0.9913 - val_loss: 0.0306 - val_acc: 0.9918\n",
      "Epoch 16/30\n",
      "33600/33600 [==============================] - 3s 104us/step - loss: 0.0325 - acc: 0.9916 - val_loss: 0.0463 - val_acc: 0.9902\n",
      "Epoch 17/30\n",
      "33600/33600 [==============================] - 3s 102us/step - loss: 0.0354 - acc: 0.9912 - val_loss: 0.0346 - val_acc: 0.9919\n",
      "Epoch 18/30\n",
      "33600/33600 [==============================] - 3s 100us/step - loss: 0.0365 - acc: 0.9907 - val_loss: 0.0332 - val_acc: 0.9915\n",
      "Epoch 19/30\n",
      "33600/33600 [==============================] - 4s 104us/step - loss: 0.0330 - acc: 0.9914 - val_loss: 0.0327 - val_acc: 0.9919\n",
      "Epoch 20/30\n",
      "33600/33600 [==============================] - 3s 104us/step - loss: 0.0373 - acc: 0.9912 - val_loss: 0.0427 - val_acc: 0.9899\n",
      "Epoch 21/30\n",
      "33600/33600 [==============================] - 4s 113us/step - loss: 0.0389 - acc: 0.9905 - val_loss: 0.0390 - val_acc: 0.9910\n",
      "Epoch 22/30\n",
      "33600/33600 [==============================] - 4s 117us/step - loss: 0.0412 - acc: 0.9907 - val_loss: 0.0398 - val_acc: 0.9904\n",
      "Epoch 23/30\n",
      "33600/33600 [==============================] - 4s 122us/step - loss: 0.0372 - acc: 0.9908 - val_loss: 0.0345 - val_acc: 0.9918\n",
      "Epoch 24/30\n",
      "33600/33600 [==============================] - 4s 123us/step - loss: 0.0434 - acc: 0.9902 - val_loss: 0.0383 - val_acc: 0.9911\n",
      "Epoch 25/30\n",
      "33600/33600 [==============================] - 4s 120us/step - loss: 0.0408 - acc: 0.9903 - val_loss: 0.0536 - val_acc: 0.9885\n",
      "Epoch 26/30\n",
      "33600/33600 [==============================] - 4s 132us/step - loss: 0.0397 - acc: 0.9910 - val_loss: 0.0364 - val_acc: 0.9908\n",
      "Epoch 27/30\n",
      "33600/33600 [==============================] - 4s 131us/step - loss: 0.0427 - acc: 0.9904 - val_loss: 0.0407 - val_acc: 0.9899\n",
      "Epoch 28/30\n",
      "33600/33600 [==============================] - 4s 124us/step - loss: 0.0483 - acc: 0.9897 - val_loss: 0.0655 - val_acc: 0.9871\n",
      "Epoch 29/30\n",
      "33600/33600 [==============================] - 4s 121us/step - loss: 0.0457 - acc: 0.9892 - val_loss: 0.0540 - val_acc: 0.9923\n",
      "Epoch 30/30\n",
      "33600/33600 [==============================] - 4s 134us/step - loss: 0.0438 - acc: 0.9904 - val_loss: 0.0430 - val_acc: 0.9914\n"
     ]
    }
   ],
   "source": [
    "model2= get_model2()\n",
    "history2 = model2.fit(x=train_x, y=train_y, batch_size=64, epochs=30, validation_split=0.2, )"
   ]
  },
  {
   "cell_type": "code",
   "execution_count": 34,
   "metadata": {},
   "outputs": [
    {
     "data": {
      "image/png": "[encoded data removed]",
      "text/plain": [
       "<Figure size 432x288 with 1 Axes>"
      ]
     },
     "metadata": {
      "needs_background": "light"
     },
     "output_type": "display_data"
    },
    {
     "data": {
      "image/png": "[encoded data removed]",
      "text/plain": [
       "<Figure size 432x288 with 1 Axes>"
      ]
     },
     "metadata": {
      "needs_background": "light"
     },
     "output_type": "display_data"
    }
   ],
   "source": [
    "from util import plot_accuracy, plot_loss\n",
    "plot_accuracy(history)\n",
    "plot_loss(history)"
   ]
  },
  {
   "cell_type": "markdown",
   "metadata": {},
   "source": [
    "# Model 3"
   ]
  },
  {
   "cell_type": "code",
   "execution_count": 52,
   "metadata": {},
   "outputs": [
    {
     "name": "stdout",
     "output_type": "stream",
     "text": [
      "Train on 33600 samples, validate on 8400 samples\n",
      "Epoch 1/30\n",
      "33600/33600 [==============================] - 7s 200us/step - loss: 0.2851 - acc: 0.9115 - val_loss: 0.0550 - val_acc: 0.9830\n",
      "Epoch 2/30\n",
      "33600/33600 [==============================] - 6s 190us/step - loss: 0.0839 - acc: 0.9758 - val_loss: 0.0649 - val_acc: 0.9857\n",
      "Epoch 3/30\n",
      "33600/33600 [==============================] - 6s 188us/step - loss: 0.0691 - acc: 0.9811 - val_loss: 0.0519 - val_acc: 0.9831\n",
      "Epoch 4/30\n",
      "33600/33600 [==============================] - 6s 184us/step - loss: 0.0638 - acc: 0.9841 - val_loss: 0.0441 - val_acc: 0.9889\n",
      "Epoch 5/30\n",
      "33600/33600 [==============================] - 6s 186us/step - loss: 0.0597 - acc: 0.9848 - val_loss: 0.0533 - val_acc: 0.9850\n",
      "Epoch 6/30\n",
      "33600/33600 [==============================] - 6s 181us/step - loss: 0.0552 - acc: 0.9861 - val_loss: 0.0514 - val_acc: 0.9895\n",
      "Epoch 7/30\n",
      "33600/33600 [==============================] - 6s 187us/step - loss: 0.0591 - acc: 0.9862 - val_loss: 0.0461 - val_acc: 0.9900\n",
      "Epoch 8/30\n",
      "33600/33600 [==============================] - 7s 203us/step - loss: 0.0611 - acc: 0.9862 - val_loss: 0.0581 - val_acc: 0.9874\n",
      "Epoch 9/30\n",
      "33600/33600 [==============================] - 7s 198us/step - loss: 0.0646 - acc: 0.9858 - val_loss: 0.0658 - val_acc: 0.9857\n",
      "Epoch 10/30\n",
      "33600/33600 [==============================] - 7s 205us/step - loss: 0.0679 - acc: 0.9861 - val_loss: 0.0511 - val_acc: 0.9875\n",
      "Epoch 11/30\n",
      "33600/33600 [==============================] - 7s 199us/step - loss: 0.0729 - acc: 0.9840 - val_loss: 0.0775 - val_acc: 0.9864\n",
      "Epoch 12/30\n",
      "33600/33600 [==============================] - 7s 200us/step - loss: 0.0690 - acc: 0.9862 - val_loss: 0.0596 - val_acc: 0.9879\n",
      "Epoch 13/30\n",
      "33600/33600 [==============================] - 7s 195us/step - loss: 0.0717 - acc: 0.9851 - val_loss: 0.0658 - val_acc: 0.9877\n",
      "Epoch 14/30\n",
      "33600/33600 [==============================] - 6s 184us/step - loss: 0.0775 - acc: 0.9857 - val_loss: 0.0683 - val_acc: 0.9869\n",
      "Epoch 15/30\n",
      "33600/33600 [==============================] - 6s 182us/step - loss: 0.0792 - acc: 0.9850 - val_loss: 0.0701 - val_acc: 0.9877\n",
      "Epoch 16/30\n",
      "33600/33600 [==============================] - 6s 174us/step - loss: 0.0795 - acc: 0.9857 - val_loss: 0.0486 - val_acc: 0.9919\n",
      "Epoch 17/30\n",
      "33600/33600 [==============================] - 7s 199us/step - loss: 0.0796 - acc: 0.9855 - val_loss: 0.0761 - val_acc: 0.9889\n",
      "Epoch 18/30\n",
      "33600/33600 [==============================] - 6s 192us/step - loss: 0.0869 - acc: 0.9847 - val_loss: 0.0942 - val_acc: 0.9861\n",
      "Epoch 19/30\n",
      "33600/33600 [==============================] - 6s 188us/step - loss: 0.0855 - acc: 0.9849 - val_loss: 0.0875 - val_acc: 0.9885\n",
      "Epoch 20/30\n",
      "33600/33600 [==============================] - 6s 189us/step - loss: 0.0905 - acc: 0.9850 - val_loss: 0.0625 - val_acc: 0.9881\n",
      "Epoch 21/30\n",
      "33600/33600 [==============================] - 6s 185us/step - loss: 0.0885 - acc: 0.9849 - val_loss: 0.0498 - val_acc: 0.9886\n",
      "Epoch 22/30\n",
      "33600/33600 [==============================] - 6s 189us/step - loss: 0.0923 - acc: 0.9833 - val_loss: 0.0920 - val_acc: 0.9852\n",
      "Epoch 23/30\n",
      "33600/33600 [==============================] - 6s 182us/step - loss: 0.1005 - acc: 0.9829 - val_loss: 0.0801 - val_acc: 0.9865\n",
      "Epoch 24/30\n",
      "33600/33600 [==============================] - 7s 202us/step - loss: 0.1030 - acc: 0.9817 - val_loss: 0.0916 - val_acc: 0.9873\n",
      "Epoch 25/30\n",
      "33600/33600 [==============================] - 6s 176us/step - loss: 0.1062 - acc: 0.9830 - val_loss: 0.0958 - val_acc: 0.9844\n",
      "Epoch 26/30\n",
      "33600/33600 [==============================] - 6s 173us/step - loss: 0.1128 - acc: 0.9822 - val_loss: 0.0837 - val_acc: 0.9877\n",
      "Epoch 27/30\n",
      "33600/33600 [==============================] - 6s 174us/step - loss: 0.1069 - acc: 0.9816 - val_loss: 0.0484 - val_acc: 0.9876\n",
      "Epoch 28/30\n",
      "33600/33600 [==============================] - 6s 173us/step - loss: 0.1056 - acc: 0.9813 - val_loss: 0.0657 - val_acc: 0.9869\n",
      "Epoch 29/30\n",
      "33600/33600 [==============================] - 6s 173us/step - loss: 0.1155 - acc: 0.9822 - val_loss: 0.0970 - val_acc: 0.9767\n",
      "Epoch 30/30\n",
      "33600/33600 [==============================] - 6s 177us/step - loss: 0.1170 - acc: 0.9809 - val_loss: 0.0598 - val_acc: 0.9869\n"
     ]
    }
   ],
   "source": [
    "model3 = get_model3()\n",
    "history3 = model3.fit(x=train_x, y=train_y, batch_size=64, epochs=30, validation_split=0.2, )"
   ]
  },
  {
   "cell_type": "code",
   "execution_count": 53,
   "metadata": {},
   "outputs": [
    {
     "data": {
      "image/png": "[encoded data removed]",
      "text/plain": [
       "<Figure size 432x288 with 1 Axes>"
      ]
     },
     "metadata": {
      "needs_background": "light"
     },
     "output_type": "display_data"
    },
    {
     "data": {
      "image/png": "[encoded data removed]",
      "text/plain": [
       "<Figure size 432x288 with 1 Axes>"
      ]
     },
     "metadata": {
      "needs_background": "light"
     },
     "output_type": "display_data"
    }
   ],
   "source": [
    "plot_accuracy(history)\n",
    "plot_loss(history)"
   ]
  },
  {
   "cell_type": "markdown",
   "metadata": {},
   "source": [
    "# Testing"
   ]
  },
  {
   "cell_type": "code",
   "execution_count": 21,
   "metadata": {},
   "outputs": [
    {
     "name": "stdout",
     "output_type": "stream",
     "text": [
      "Test X shape : (28000, 28, 28, 1)\n"
     ]
    }
   ],
   "source": [
    "test_data = pd.read_csv('./data/test.csv')\n",
    "test_x = prepare_x(test_data)\n",
    "print (\"Test X shape : \" + str(test_x.shape))"
   ]
  },
  {
   "cell_type": "code",
   "execution_count": 22,
   "metadata": {},
   "outputs": [],
   "source": [
    "def get_prediction(model, imgs):\n",
    "    predictio\n",
    "    "
   ]
  },
  {
   "cell_type": "code",
   "execution_count": 23,
   "metadata": {},
   "outputs": [
    {
     "data": {
      "text/plain": [
       "array([[1.8215934e-24, 1.4827392e-21, 1.0000000e+00, ..., 4.0702725e-14,\n",
       "        6.9843801e-22, 3.7487905e-24],\n",
       "       [1.0000000e+00, 6.5800803e-18, 5.0355001e-14, ..., 1.0960027e-10,\n",
       "        5.3576111e-19, 5.3207539e-16],\n",
       "       [4.4823187e-13, 1.8640705e-12, 4.8639478e-11, ..., 1.0071868e-06,\n",
       "        1.4528624e-07, 9.9999833e-01],\n",
       "       ...,\n",
       "       [5.7482836e-30, 1.5576005e-21, 1.8329232e-21, ..., 1.0436324e-19,\n",
       "        6.9947703e-17, 2.9235268e-14],\n",
       "       [6.9890171e-10, 8.1132136e-11, 3.5457703e-09, ..., 1.3133086e-05,\n",
       "        1.5471693e-07, 9.9997103e-01],\n",
       "       [3.6460930e-21, 2.3810493e-17, 1.0000000e+00, ..., 2.6410831e-12,\n",
       "        1.8624235e-17, 1.1573664e-18]], dtype=float32)"
      ]
     },
     "execution_count": 23,
     "metadata": {},
     "output_type": "execute_result"
    }
   ],
   "source": [
    "model1.predict(test_x)"
   ]
  },
  {
   "cell_type": "code",
   "execution_count": 24,
   "metadata": {},
   "outputs": [],
   "source": [
    "pred_1 = model1.predict_classes(test_x)"
   ]
  },
  {
   "cell_type": "code",
   "execution_count": 35,
   "metadata": {},
   "outputs": [],
   "source": [
    "pred_2 = model2.predict_classes(test_x)"
   ]
  },
  {
   "cell_type": "code",
   "execution_count": 26,
   "metadata": {},
   "outputs": [],
   "source": [
    "pred_3 = model3.predict_classes(test_x)"
   ]
  },
  {
   "cell_type": "code",
   "execution_count": 27,
   "metadata": {},
   "outputs": [],
   "source": [
    "# Visualize test Results"
   ]
  },
  {
   "cell_type": "code",
   "execution_count": 28,
   "metadata": {},
   "outputs": [
    {
     "data": {
      "image/png": "[encoded data removed]",
      "text/plain": [
       "<Figure size 432x288 with 1 Axes>"
      ]
     },
     "metadata": {
      "needs_background": "light"
     },
     "output_type": "display_data"
    },
    {
     "name": "stdout",
     "output_type": "stream",
     "text": [
      "Preiction by model1: 2\n",
      "Preiction by model2: 2\n",
      "Preiction by model3: 2\n"
     ]
    }
   ],
   "source": [
    "i=0\n",
    "showImage(test_x[i])\n",
    "print(\"Preiction by model1: \" + str(pred_1[i]))\n",
    "print(\"Preiction by model2: \" + str(pred_2[i]))\n",
    "print(\"Preiction by model3: \" + str(pred_3[i]))\n"
   ]
  },
  {
   "cell_type": "code",
   "execution_count": 29,
   "metadata": {},
   "outputs": [
    {
     "data": {
      "image/png": "[encoded data removed]",
      "text/plain": [
       "<Figure size 432x288 with 1 Axes>"
      ]
     },
     "metadata": {
      "needs_background": "light"
     },
     "output_type": "display_data"
    },
    {
     "name": "stdout",
     "output_type": "stream",
     "text": [
      "Preiction by model1: 0\n",
      "Preiction by model2: 0\n",
      "Preiction by model3: 0\n"
     ]
    }
   ],
   "source": [
    "i=100\n",
    "showImage(test_x[i])\n",
    "print(\"Preiction by model1: \" + str(pred_1[i]))\n",
    "print(\"Preiction by model2: \" + str(pred_2[i]))\n",
    "print(\"Preiction by model3: \" + str(pred_3[i]))\n"
   ]
  },
  {
   "cell_type": "code",
   "execution_count": null,
   "metadata": {},
   "outputs": [],
   "source": []
  },
  {
   "cell_type": "markdown",
   "metadata": {},
   "source": [
    "# Submission to kaggle"
   ]
  },
  {
   "cell_type": "code",
   "execution_count": 36,
   "metadata": {},
   "outputs": [],
   "source": [
    "result = pd.Series(pred_2, name = \"Label\")\n",
    "submit = pd.concat([pd.Series(range(1, 28001), name = \"ImageId\"), result], axis = 1)\n",
    "submit.to_csv(\"Submission.csv\", index = False)"
   ]
  },
  {
   "cell_type": "code",
   "execution_count": null,
   "metadata": {},
   "outputs": [],
   "source": []
  },
  {
   "cell_type": "code",
   "execution_count": null,
   "metadata": {},
   "outputs": [],
   "source": []
  },
  {
   "cell_type": "markdown",
   "metadata": {},
   "source": [
    "# Analysis"
   ]
  },
  {
   "cell_type": "code",
   "execution_count": 45,
   "metadata": {},
   "outputs": [],
   "source": [
    "from sklearn.metrics import confusion_matrix\n",
    "import numpy as np\n",
    "import itertools\n",
    "\n",
    "def plot_confusion_matrix(cm, classes,\n",
    "                          normalize=False,\n",
    "                          title='Confusion matrix',\n",
    "                          cmap=plt.cm.Blues):\n",
    "    \"\"\"\n",
    "    This function prints and plots the confusion matrix.\n",
    "    Normalization can be applied by setting `normalize=True`.\n",
    "    \"\"\"\n",
    "    plt.imshow(cm, interpolation='nearest', cmap=cmap)\n",
    "    plt.title(title)\n",
    "    plt.colorbar()\n",
    "    tick_marks = np.arange(len(classes))\n",
    "    plt.xticks(tick_marks, classes, rotation=45)\n",
    "    plt.yticks(tick_marks, classes)\n",
    "\n",
    "    if normalize:\n",
    "        cm = cm.astype('float') / cm.sum(axis=1)[:, np.newaxis]\n",
    "\n",
    "    thresh = cm.max() / 2.\n",
    "    for i, j in itertools.product(range(cm.shape[0]), range(cm.shape[1])):\n",
    "        plt.text(j, i, cm[i, j],\n",
    "                 horizontalalignment=\"center\",\n",
    "                 color=\"white\" if cm[i, j] > thresh else \"black\")\n",
    "\n",
    "    plt.tight_layout()\n",
    "    plt.ylabel('True label')\n",
    "    plt.xlabel('Predicted label')"
   ]
  },
  {
   "cell_type": "code",
   "execution_count": 46,
   "metadata": {},
   "outputs": [
    {
     "data": {
      "image/png": "[encoded data removed]",
      "text/plain": [
       "<Figure size 432x288 with 2 Axes>"
      ]
     },
     "metadata": {
      "needs_background": "light"
     },
     "output_type": "display_data"
    }
   ],
   "source": [
    "true = train_data.label\n",
    "pred = model2.predict_classes(train_x)\n",
    "confusion_mtx = confusion_matrix(true, pred) \n",
    "plot_confusion_matrix(confusion_mtx, classes = range(10)) \n"
   ]
  },
  {
   "cell_type": "code",
   "execution_count": null,
   "metadata": {},
   "outputs": [],
   "source": []
  },
  {
   "cell_type": "code",
   "execution_count": null,
   "metadata": {},
   "outputs": [],
   "source": []
  },
  {
   "cell_type": "code",
   "execution_count": null,
   "metadata": {},
   "outputs": [],
   "source": []
  }
 ],
 "metadata": {
  "kernelspec": {
   "display_name": "Python 3",
   "language": "python",
   "name": "python3"
  },
  "language_info": {
   "codemirror_mode": {
    "name": "ipython",
    "version": 3
   },
   "file_extension": ".py",
   "mimetype": "text/x-python",
   "name": "python",
   "nbconvert_exporter": "python",
   "pygments_lexer": "ipython3",
   "version": "3.7.3"
  }
 },
 "nbformat": 4,
 "nbformat_minor": 2
}
